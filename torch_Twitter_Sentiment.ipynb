{
  "nbformat": 4,
  "nbformat_minor": 0,
  "metadata": {
    "colab": {
      "name": "torch_Twitter_Sentiment.ipynb",
      "provenance": [],
      "collapsed_sections": [],
      "authorship_tag": "ABX9TyMRANR4YL2ePWygiNNvT8p8",
      "include_colab_link": true
    },
    "kernelspec": {
      "name": "python3",
      "display_name": "Python 3"
    },
    "accelerator": "GPU"
  },
  "cells": [
    {
      "cell_type": "markdown",
      "metadata": {
        "id": "view-in-github",
        "colab_type": "text"
      },
      "source": [
        "<a href=\"https://colab.research.google.com/github/fractal2k/Twitter-Sentiment-Prediction/blob/master/torch_Twitter_Sentiment.ipynb\" target=\"_parent\"><img src=\"https://colab.research.google.com/assets/colab-badge.svg\" alt=\"Open In Colab\"/></a>"
      ]
    },
    {
      "cell_type": "markdown",
      "metadata": {
        "id": "3tRkFJswJ0DZ",
        "colab_type": "text"
      },
      "source": [
        "# Sentiment140 with PyTorch and GloVe Twitter Embeddings"
      ]
    },
    {
      "cell_type": "markdown",
      "metadata": {
        "id": "8jmPsq3x4HIi",
        "colab_type": "text"
      },
      "source": [
        "[hiddenlayer](https://github.com/waleedka/hiddenlayer) is a convenient visualization library that we use to visualize our training and testing loss/accuracy."
      ]
    },
    {
      "cell_type": "code",
      "metadata": {
        "id": "Bq8yHlTKM2jW",
        "colab_type": "code",
        "colab": {}
      },
      "source": [
        "!pip install hiddenlayer"
      ],
      "execution_count": 1,
      "outputs": []
    },
    {
      "cell_type": "markdown",
      "metadata": {
        "id": "5HVZ6s2OJt1u",
        "colab_type": "text"
      },
      "source": [
        "## Kaggle configuration and Getting the dataset"
      ]
    },
    {
      "cell_type": "code",
      "metadata": {
        "id": "LYm-AfuPkqGf",
        "colab_type": "code",
        "colab": {}
      },
      "source": [
        "!mkdir .kaggle"
      ],
      "execution_count": 2,
      "outputs": []
    },
    {
      "cell_type": "code",
      "metadata": {
        "id": "O_A_H_Nfg44i",
        "colab_type": "code",
        "colab": {}
      },
      "source": [
        "import json\n",
        "\n",
        "token = {'username': '<your username here>','key':'<your API key here>'}\n",
        "with open('./.kaggle/kaggle.json', 'w') as file:\n",
        "    json.dump(token, file)"
      ],
      "execution_count": 3,
      "outputs": []
    },
    {
      "cell_type": "code",
      "metadata": {
        "id": "2reqUKmfjWt9",
        "colab_type": "code",
        "colab": {}
      },
      "source": [
        "# Copy the kaggle directory to root\n",
        "!cp -avr ./.kaggle ~/"
      ],
      "execution_count": null,
      "outputs": []
    },
    {
      "cell_type": "code",
      "metadata": {
        "id": "jy7sUb_xjxBe",
        "colab_type": "code",
        "colab": {}
      },
      "source": [
        "!kaggle config set -n path -v {/content}"
      ],
      "execution_count": null,
      "outputs": []
    },
    {
      "cell_type": "code",
      "metadata": {
        "id": "_3W-NAHlg42F",
        "colab_type": "code",
        "colab": {}
      },
      "source": [
        "!kaggle datasets download -d kazanova/sentiment140 -p /content"
      ],
      "execution_count": null,
      "outputs": []
    },
    {
      "cell_type": "code",
      "metadata": {
        "id": "25aFG_IgmX63",
        "colab_type": "code",
        "colab": {}
      },
      "source": [
        "!unzip -qq sentiment140.zip"
      ],
      "execution_count": 7,
      "outputs": []
    },
    {
      "cell_type": "markdown",
      "metadata": {
        "id": "5nSfCFs_KAlu",
        "colab_type": "text"
      },
      "source": [
        "## Making the necessary imports"
      ]
    },
    {
      "cell_type": "code",
      "metadata": {
        "id": "IFdy7C6GNByL",
        "colab_type": "code",
        "colab": {}
      },
      "source": [
        "import re\n",
        "import numpy as np\n",
        "import pandas as pd\n",
        "import matplotlib.pyplot as plt\n",
        "%matplotlib inline\n",
        "import seaborn as sn\n",
        "from sklearn.model_selection import train_test_split\n",
        "import hiddenlayer as hl\n",
        "\n",
        "from collections import defaultdict\n",
        "\n",
        "import torch\n",
        "import torch.nn as nn\n",
        "import torch.nn.functional as F\n",
        "import torch.optim as optim\n",
        "from torch.optim.optimizer import Optimizer\n",
        "\n",
        "import torchtext\n",
        "from torchtext import data"
      ],
      "execution_count": null,
      "outputs": []
    },
    {
      "cell_type": "markdown",
      "metadata": {
        "id": "wtmITb1OBYH1",
        "colab_type": "text"
      },
      "source": [
        "## Reading the data and preprocessing"
      ]
    },
    {
      "cell_type": "code",
      "metadata": {
        "id": "g2lQ1UPTeEuk",
        "colab_type": "code",
        "colab": {}
      },
      "source": [
        "df = pd.read_csv('training.1600000.processed.noemoticon.csv', names=['target', 'ids', 'date', 'flag', 'user', 'text'], encoding='ISO-8859-1')"
      ],
      "execution_count": 9,
      "outputs": []
    },
    {
      "cell_type": "code",
      "metadata": {
        "id": "fH7aCk-FoNCM",
        "colab_type": "code",
        "colab": {
          "base_uri": "https://localhost:8080/",
          "height": 204
        },
        "outputId": "1188c9e1-d2b4-48c9-cfc4-8a5f7bd9a1e1"
      },
      "source": [
        "df.head()"
      ],
      "execution_count": null,
      "outputs": [
        {
          "output_type": "execute_result",
          "data": {
            "text/html": [
              "<div>\n",
              "<style scoped>\n",
              "    .dataframe tbody tr th:only-of-type {\n",
              "        vertical-align: middle;\n",
              "    }\n",
              "\n",
              "    .dataframe tbody tr th {\n",
              "        vertical-align: top;\n",
              "    }\n",
              "\n",
              "    .dataframe thead th {\n",
              "        text-align: right;\n",
              "    }\n",
              "</style>\n",
              "<table border=\"1\" class=\"dataframe\">\n",
              "  <thead>\n",
              "    <tr style=\"text-align: right;\">\n",
              "      <th></th>\n",
              "      <th>target</th>\n",
              "      <th>ids</th>\n",
              "      <th>date</th>\n",
              "      <th>flag</th>\n",
              "      <th>user</th>\n",
              "      <th>text</th>\n",
              "    </tr>\n",
              "  </thead>\n",
              "  <tbody>\n",
              "    <tr>\n",
              "      <th>0</th>\n",
              "      <td>0</td>\n",
              "      <td>1467810369</td>\n",
              "      <td>Mon Apr 06 22:19:45 PDT 2009</td>\n",
              "      <td>NO_QUERY</td>\n",
              "      <td>_TheSpecialOne_</td>\n",
              "      <td>@switchfoot http://twitpic.com/2y1zl - Awww, t...</td>\n",
              "    </tr>\n",
              "    <tr>\n",
              "      <th>1</th>\n",
              "      <td>0</td>\n",
              "      <td>1467810672</td>\n",
              "      <td>Mon Apr 06 22:19:49 PDT 2009</td>\n",
              "      <td>NO_QUERY</td>\n",
              "      <td>scotthamilton</td>\n",
              "      <td>is upset that he can't update his Facebook by ...</td>\n",
              "    </tr>\n",
              "    <tr>\n",
              "      <th>2</th>\n",
              "      <td>0</td>\n",
              "      <td>1467810917</td>\n",
              "      <td>Mon Apr 06 22:19:53 PDT 2009</td>\n",
              "      <td>NO_QUERY</td>\n",
              "      <td>mattycus</td>\n",
              "      <td>@Kenichan I dived many times for the ball. Man...</td>\n",
              "    </tr>\n",
              "    <tr>\n",
              "      <th>3</th>\n",
              "      <td>0</td>\n",
              "      <td>1467811184</td>\n",
              "      <td>Mon Apr 06 22:19:57 PDT 2009</td>\n",
              "      <td>NO_QUERY</td>\n",
              "      <td>ElleCTF</td>\n",
              "      <td>my whole body feels itchy and like its on fire</td>\n",
              "    </tr>\n",
              "    <tr>\n",
              "      <th>4</th>\n",
              "      <td>0</td>\n",
              "      <td>1467811193</td>\n",
              "      <td>Mon Apr 06 22:19:57 PDT 2009</td>\n",
              "      <td>NO_QUERY</td>\n",
              "      <td>Karoli</td>\n",
              "      <td>@nationwideclass no, it's not behaving at all....</td>\n",
              "    </tr>\n",
              "  </tbody>\n",
              "</table>\n",
              "</div>"
            ],
            "text/plain": [
              "   target  ...                                               text\n",
              "0       0  ...  @switchfoot http://twitpic.com/2y1zl - Awww, t...\n",
              "1       0  ...  is upset that he can't update his Facebook by ...\n",
              "2       0  ...  @Kenichan I dived many times for the ball. Man...\n",
              "3       0  ...    my whole body feels itchy and like its on fire \n",
              "4       0  ...  @nationwideclass no, it's not behaving at all....\n",
              "\n",
              "[5 rows x 6 columns]"
            ]
          },
          "metadata": {
            "tags": []
          },
          "execution_count": 15
        }
      ]
    },
    {
      "cell_type": "code",
      "metadata": {
        "id": "d0hpBnQBoWh1",
        "colab_type": "code",
        "colab": {}
      },
      "source": [
        "raw_data = df[['text', 'target']].copy(deep=True)"
      ],
      "execution_count": 10,
      "outputs": []
    },
    {
      "cell_type": "code",
      "metadata": {
        "id": "RTw2XmuKqkEI",
        "colab_type": "code",
        "colab": {
          "base_uri": "https://localhost:8080/",
          "height": 204
        },
        "outputId": "2b25553a-4598-45cd-e8a2-68a627b828e6"
      },
      "source": [
        "raw_data.head()"
      ],
      "execution_count": null,
      "outputs": [
        {
          "output_type": "execute_result",
          "data": {
            "text/html": [
              "<div>\n",
              "<style scoped>\n",
              "    .dataframe tbody tr th:only-of-type {\n",
              "        vertical-align: middle;\n",
              "    }\n",
              "\n",
              "    .dataframe tbody tr th {\n",
              "        vertical-align: top;\n",
              "    }\n",
              "\n",
              "    .dataframe thead th {\n",
              "        text-align: right;\n",
              "    }\n",
              "</style>\n",
              "<table border=\"1\" class=\"dataframe\">\n",
              "  <thead>\n",
              "    <tr style=\"text-align: right;\">\n",
              "      <th></th>\n",
              "      <th>text</th>\n",
              "      <th>target</th>\n",
              "    </tr>\n",
              "  </thead>\n",
              "  <tbody>\n",
              "    <tr>\n",
              "      <th>0</th>\n",
              "      <td>@switchfoot http://twitpic.com/2y1zl - Awww, t...</td>\n",
              "      <td>0</td>\n",
              "    </tr>\n",
              "    <tr>\n",
              "      <th>1</th>\n",
              "      <td>is upset that he can't update his Facebook by ...</td>\n",
              "      <td>0</td>\n",
              "    </tr>\n",
              "    <tr>\n",
              "      <th>2</th>\n",
              "      <td>@Kenichan I dived many times for the ball. Man...</td>\n",
              "      <td>0</td>\n",
              "    </tr>\n",
              "    <tr>\n",
              "      <th>3</th>\n",
              "      <td>my whole body feels itchy and like its on fire</td>\n",
              "      <td>0</td>\n",
              "    </tr>\n",
              "    <tr>\n",
              "      <th>4</th>\n",
              "      <td>@nationwideclass no, it's not behaving at all....</td>\n",
              "      <td>0</td>\n",
              "    </tr>\n",
              "  </tbody>\n",
              "</table>\n",
              "</div>"
            ],
            "text/plain": [
              "                                                text  target\n",
              "0  @switchfoot http://twitpic.com/2y1zl - Awww, t...       0\n",
              "1  is upset that he can't update his Facebook by ...       0\n",
              "2  @Kenichan I dived many times for the ball. Man...       0\n",
              "3    my whole body feels itchy and like its on fire        0\n",
              "4  @nationwideclass no, it's not behaving at all....       0"
            ]
          },
          "metadata": {
            "tags": []
          },
          "execution_count": 18
        }
      ]
    },
    {
      "cell_type": "markdown",
      "metadata": {
        "id": "7V6jdnP6BiUp",
        "colab_type": "text"
      },
      "source": [
        "We sub out the usernames with the ```<user>``` tag, links with the ```<url>``` tag, hashtags with the ```<hashtag>``` tag and numbers with the ```<number>``` tag. After that, we filter out all the punctuations.</br>This is necessary because we use the GloVe Twitter Embeddings, which contain these tags."
      ]
    },
    {
      "cell_type": "code",
      "metadata": {
        "id": "nD63Ws7EhBUH",
        "colab_type": "code",
        "colab": {}
      },
      "source": [
        "# Sub the rest of the elements before filtering the punctuations out, otherwise \n",
        "# the punctuation regex will get rid of the symbols necessary for these elements\n",
        "# too\n",
        "def clean(text):\n",
        "    USER = '@[\\w_]+'\n",
        "    LINK = 'https?:\\/\\/\\S+'\n",
        "    HASHTAG = '#\\S+'\n",
        "    NUMBER = '\\d+'\n",
        "    PUNCTUATIONS = '[\\.?!,;:\\-\\[\\]\\{\\}\\(\\)\\'\\\"/]'\n",
        "\n",
        "    user_sub = re.sub(USER, ' <user> ', text)\n",
        "    link_sub = re.sub(LINK, ' <url> ', user_sub)\n",
        "    hashtag_sub = re.sub(HASHTAG, ' <hashtag> ', link_sub)\n",
        "    number_sub = re.sub(NUMBER, ' <number> ', hashtag_sub)\n",
        "    clean_text = re.sub(PUNCTUATIONS, ' ', number_sub)\n",
        "\n",
        "    return clean_text.lower()"
      ],
      "execution_count": 11,
      "outputs": []
    },
    {
      "cell_type": "code",
      "metadata": {
        "id": "UoWOm2w-sMyg",
        "colab_type": "code",
        "colab": {}
      },
      "source": [
        "raw_data['text'] = raw_data['text'].apply(lambda x: clean(x))"
      ],
      "execution_count": 12,
      "outputs": []
    },
    {
      "cell_type": "markdown",
      "metadata": {
        "id": "4-TKpnusB4_X",
        "colab_type": "text"
      },
      "source": [
        "The target values are {0, 4}, so we replace 4 with 1 instead."
      ]
    },
    {
      "cell_type": "code",
      "metadata": {
        "id": "vkM5MG6nM8wT",
        "colab_type": "code",
        "colab": {}
      },
      "source": [
        "raw_data['target'] = raw_data['target'].replace(4, 1)"
      ],
      "execution_count": 13,
      "outputs": []
    },
    {
      "cell_type": "code",
      "metadata": {
        "id": "wvjl7B4XB191",
        "colab_type": "code",
        "colab": {
          "base_uri": "https://localhost:8080/",
          "height": 359
        },
        "outputId": "f2b53b0d-f67a-4fc1-f574-06532ff50298"
      },
      "source": [
        "raw_data.head(10)"
      ],
      "execution_count": null,
      "outputs": [
        {
          "output_type": "execute_result",
          "data": {
            "text/html": [
              "<div>\n",
              "<style scoped>\n",
              "    .dataframe tbody tr th:only-of-type {\n",
              "        vertical-align: middle;\n",
              "    }\n",
              "\n",
              "    .dataframe tbody tr th {\n",
              "        vertical-align: top;\n",
              "    }\n",
              "\n",
              "    .dataframe thead th {\n",
              "        text-align: right;\n",
              "    }\n",
              "</style>\n",
              "<table border=\"1\" class=\"dataframe\">\n",
              "  <thead>\n",
              "    <tr style=\"text-align: right;\">\n",
              "      <th></th>\n",
              "      <th>text</th>\n",
              "      <th>target</th>\n",
              "    </tr>\n",
              "  </thead>\n",
              "  <tbody>\n",
              "    <tr>\n",
              "      <th>0</th>\n",
              "      <td>&lt;user&gt;   &lt;url&gt;    awww  that s a bummer   you...</td>\n",
              "      <td>0</td>\n",
              "    </tr>\n",
              "    <tr>\n",
              "      <th>1</th>\n",
              "      <td>is upset that he can t update his facebook by ...</td>\n",
              "      <td>0</td>\n",
              "    </tr>\n",
              "    <tr>\n",
              "      <th>2</th>\n",
              "      <td>&lt;user&gt;  i dived many times for the ball  mana...</td>\n",
              "      <td>0</td>\n",
              "    </tr>\n",
              "    <tr>\n",
              "      <th>3</th>\n",
              "      <td>my whole body feels itchy and like its on fire</td>\n",
              "      <td>0</td>\n",
              "    </tr>\n",
              "    <tr>\n",
              "      <th>4</th>\n",
              "      <td>&lt;user&gt;  no  it s not behaving at all  i m mad...</td>\n",
              "      <td>0</td>\n",
              "    </tr>\n",
              "    <tr>\n",
              "      <th>5</th>\n",
              "      <td>&lt;user&gt;  not the whole crew</td>\n",
              "      <td>0</td>\n",
              "    </tr>\n",
              "    <tr>\n",
              "      <th>6</th>\n",
              "      <td>need a hug</td>\n",
              "      <td>0</td>\n",
              "    </tr>\n",
              "    <tr>\n",
              "      <th>7</th>\n",
              "      <td>&lt;user&gt;  hey  long time no see  yes   rains a ...</td>\n",
              "      <td>0</td>\n",
              "    </tr>\n",
              "    <tr>\n",
              "      <th>8</th>\n",
              "      <td>&lt;user&gt;  nope they didn t have it</td>\n",
              "      <td>0</td>\n",
              "    </tr>\n",
              "    <tr>\n",
              "      <th>9</th>\n",
              "      <td>&lt;user&gt;  que me muera</td>\n",
              "      <td>0</td>\n",
              "    </tr>\n",
              "  </tbody>\n",
              "</table>\n",
              "</div>"
            ],
            "text/plain": [
              "                                                text  target\n",
              "0   <user>   <url>    awww  that s a bummer   you...       0\n",
              "1  is upset that he can t update his facebook by ...       0\n",
              "2   <user>  i dived many times for the ball  mana...       0\n",
              "3    my whole body feels itchy and like its on fire        0\n",
              "4   <user>  no  it s not behaving at all  i m mad...       0\n",
              "5                        <user>  not the whole crew        0\n",
              "6                                        need a hug        0\n",
              "7   <user>  hey  long time no see  yes   rains a ...       0\n",
              "8                  <user>  nope they didn t have it        0\n",
              "9                            <user>  que me muera          0"
            ]
          },
          "metadata": {
            "tags": []
          },
          "execution_count": 18
        }
      ]
    },
    {
      "cell_type": "markdown",
      "metadata": {
        "id": "UEAaAkfWCFuA",
        "colab_type": "text"
      },
      "source": [
        "Splitting into train and test sets:"
      ]
    },
    {
      "cell_type": "code",
      "metadata": {
        "id": "2OZ0Z9lcwIew",
        "colab_type": "code",
        "colab": {}
      },
      "source": [
        "train, test = train_test_split(raw_data, test_size=0.15)"
      ],
      "execution_count": 14,
      "outputs": []
    },
    {
      "cell_type": "code",
      "metadata": {
        "id": "0NXzWBYgDRDB",
        "colab_type": "code",
        "colab": {}
      },
      "source": [
        "!mkdir data"
      ],
      "execution_count": 15,
      "outputs": []
    },
    {
      "cell_type": "code",
      "metadata": {
        "id": "euhU5dV4EMv7",
        "colab_type": "code",
        "colab": {}
      },
      "source": [
        "train.to_csv('./data/train.csv', index=False)\n",
        "test.to_csv('./data/test.csv', index=False)"
      ],
      "execution_count": 16,
      "outputs": []
    },
    {
      "cell_type": "code",
      "metadata": {
        "id": "il2WNdUBEQob",
        "colab_type": "code",
        "colab": {}
      },
      "source": [
        "TEXT = data.Field(include_lengths=True)\n",
        "LABEL = data.LabelField(dtype=torch.float)\n",
        "fields = [('text', TEXT), ('label', LABEL)]"
      ],
      "execution_count": 17,
      "outputs": []
    },
    {
      "cell_type": "code",
      "metadata": {
        "id": "o6EGdFwbFH0r",
        "colab_type": "code",
        "colab": {}
      },
      "source": [
        "trainds, testds = data.TabularDataset.splits(path='./data', format='csv', train='train.csv', test='test.csv', fields=fields, skip_header=True)"
      ],
      "execution_count": 18,
      "outputs": []
    },
    {
      "cell_type": "code",
      "metadata": {
        "id": "jUm4n0ArG2SZ",
        "colab_type": "code",
        "colab": {
          "base_uri": "https://localhost:8080/",
          "height": 51
        },
        "outputId": "d9067932-fb65-4833-cfd4-8c9543103d05"
      },
      "source": [
        "TEXT.build_vocab(trainds, max_size=2000000, vectors='glove.twitter.27B.50d', unk_init=torch.normal)"
      ],
      "execution_count": 19,
      "outputs": [
        {
          "output_type": "stream",
          "text": [
            ".vector_cache/glove.twitter.27B.zip: 1.52GB [12:19, 2.06MB/s]                            \n",
            "100%|█████████▉| 1190835/1193514 [00:41<00:00, 28541.10it/s]"
          ],
          "name": "stderr"
        }
      ]
    },
    {
      "cell_type": "code",
      "metadata": {
        "id": "4_fqah-LSegx",
        "colab_type": "code",
        "colab": {}
      },
      "source": [
        "LABEL.build_vocab(trainds)"
      ],
      "execution_count": 20,
      "outputs": []
    },
    {
      "cell_type": "code",
      "metadata": {
        "id": "sjp-Dv21rY-I",
        "colab_type": "code",
        "colab": {
          "base_uri": "https://localhost:8080/",
          "height": 34
        },
        "outputId": "c412c8d7-a044-4f54-8b03-6521961e5e07"
      },
      "source": [
        "LABEL.vocab.stoi['0'] = 0\n",
        "LABEL.vocab.stoi['1'] = 1\n",
        "LABEL.vocab.stoi"
      ],
      "execution_count": 21,
      "outputs": [
        {
          "output_type": "execute_result",
          "data": {
            "text/plain": [
              "defaultdict(<function torchtext.vocab._default_unk_index>, {'0': 0, '1': 1})"
            ]
          },
          "metadata": {
            "tags": []
          },
          "execution_count": 21
        }
      ]
    },
    {
      "cell_type": "code",
      "metadata": {
        "id": "qwU2YlEnSnfn",
        "colab_type": "code",
        "colab": {}
      },
      "source": [
        "device = torch.device('cuda:0' if torch.cuda.is_available() else 'cpu')\n",
        "BATCH_SIZE = 1024\n",
        "\n",
        "train_iterator, test_iterator = data.BucketIterator.splits(datasets=(trainds, testds), \n",
        "                                                           batch_sizes=(BATCH_SIZE, BATCH_SIZE), \n",
        "                                                           sort_key=lambda x: len(x.text), \n",
        "                                                           sort_within_batch=True, \n",
        "                                                           device=device)"
      ],
      "execution_count": 22,
      "outputs": []
    },
    {
      "cell_type": "markdown",
      "metadata": {
        "id": "8xPFFJuoXyfW",
        "colab_type": "text"
      },
      "source": [
        "## Here comes the model"
      ]
    },
    {
      "cell_type": "markdown",
      "metadata": {
        "id": "8ISNri5ZN15Y",
        "colab_type": "text"
      },
      "source": [
        "Lookahead optimizer implementation from [Michael Zhang's Github repo](https://github.com/michaelrzhang/lookahead/blob/master/lookahead_pytorch.py)."
      ]
    },
    {
      "cell_type": "code",
      "metadata": {
        "id": "XO9Qf0cINy-0",
        "colab_type": "code",
        "colab": {}
      },
      "source": [
        "class Lookahead(Optimizer):\n",
        "    r\"\"\"PyTorch implementation of the lookahead wrapper.\n",
        "    Lookahead Optimizer: https://arxiv.org/abs/1907.08610\n",
        "    \"\"\"\n",
        "\n",
        "    def __init__(self, optimizer, la_steps=5, la_alpha=0.8, pullback_momentum=\"none\"):\n",
        "        \"\"\"optimizer: inner optimizer\n",
        "        la_steps (int): number of lookahead steps\n",
        "        la_alpha (float): linear interpolation factor. 1.0 recovers the inner optimizer.\n",
        "        pullback_momentum (str): change to inner optimizer momentum on interpolation update\n",
        "        \"\"\"\n",
        "        self.optimizer = optimizer\n",
        "        self._la_step = 0  # counter for inner optimizer\n",
        "        self.la_alpha = la_alpha\n",
        "        self._total_la_steps = la_steps\n",
        "        pullback_momentum = pullback_momentum.lower()\n",
        "        assert pullback_momentum in [\"reset\", \"pullback\", \"none\"]\n",
        "        self.pullback_momentum = pullback_momentum\n",
        "\n",
        "        self.state = defaultdict(dict)\n",
        "\n",
        "        # Cache the current optimizer parameters\n",
        "        for group in optimizer.param_groups:\n",
        "            for p in group['params']:\n",
        "                param_state = self.state[p]\n",
        "                param_state['cached_params'] = torch.zeros_like(p.data)\n",
        "                param_state['cached_params'].copy_(p.data)\n",
        "                if self.pullback_momentum == \"pullback\":\n",
        "                    param_state['cached_mom'] = torch.zeros_like(p.data)\n",
        "\n",
        "    def __getstate__(self):\n",
        "        return {\n",
        "            'state': self.state,\n",
        "            'optimizer': self.optimizer,\n",
        "            'la_alpha': self.la_alpha,\n",
        "            '_la_step': self._la_step,\n",
        "            '_total_la_steps': self._total_la_steps,\n",
        "            'pullback_momentum': self.pullback_momentum\n",
        "        }\n",
        "\n",
        "    def zero_grad(self):\n",
        "        self.optimizer.zero_grad()\n",
        "\n",
        "    def get_la_step(self):\n",
        "        return self._la_step\n",
        "\n",
        "    def state_dict(self):\n",
        "        return self.optimizer.state_dict()\n",
        "\n",
        "    def load_state_dict(self, state_dict):\n",
        "        self.optimizer.load_state_dict(state_dict)\n",
        "\n",
        "    def _backup_and_load_cache(self):\n",
        "        \"\"\"Useful for performing evaluation on the slow weights (which typically generalize better)\n",
        "        \"\"\"\n",
        "        for group in self.optimizer.param_groups:\n",
        "            for p in group['params']:\n",
        "                param_state = self.state[p]\n",
        "                param_state['backup_params'] = torch.zeros_like(p.data)\n",
        "                param_state['backup_params'].copy_(p.data)\n",
        "                p.data.copy_(param_state['cached_params'])\n",
        "\n",
        "    def _clear_and_load_backup(self):\n",
        "        for group in self.optimizer.param_groups:\n",
        "            for p in group['params']:\n",
        "                param_state = self.state[p]\n",
        "                p.data.copy_(param_state['backup_params'])\n",
        "                del param_state['backup_params']\n",
        "\n",
        "    @property\n",
        "    def param_groups(self):\n",
        "        return self.optimizer.param_groups\n",
        "\n",
        "    def step(self, closure=None):\n",
        "        \"\"\"Performs a single Lookahead optimization step.\n",
        "        Arguments:\n",
        "            closure (callable, optional): A closure that reevaluates the model\n",
        "                and returns the loss.\n",
        "        \"\"\"\n",
        "        loss = self.optimizer.step(closure)\n",
        "        self._la_step += 1\n",
        "\n",
        "        if self._la_step >= self._total_la_steps:\n",
        "            self._la_step = 0\n",
        "            # Lookahead and cache the current optimizer parameters\n",
        "            for group in self.optimizer.param_groups:\n",
        "                for p in group['params']:\n",
        "                    param_state = self.state[p]\n",
        "                    p.data.mul_(self.la_alpha).add_(1.0 - self.la_alpha, param_state['cached_params'])  # crucial line\n",
        "                    param_state['cached_params'].copy_(p.data)\n",
        "                    if self.pullback_momentum == \"pullback\":\n",
        "                        internal_momentum = self.optimizer.state[p][\"momentum_buffer\"]\n",
        "                        self.optimizer.state[p][\"momentum_buffer\"] = internal_momentum.mul_(self.la_alpha).add_(\n",
        "                            1.0 - self.la_alpha, param_state[\"cached_mom\"])\n",
        "                        param_state[\"cached_mom\"] = self.optimizer.state[p][\"momentum_buffer\"]\n",
        "                    elif self.pullback_momentum == \"reset\":\n",
        "                        self.optimizer.state[p][\"momentum_buffer\"] = torch.zeros_like(p.data)\n",
        "\n",
        "        return loss"
      ],
      "execution_count": 24,
      "outputs": []
    },
    {
      "cell_type": "markdown",
      "metadata": {
        "id": "uHu2phE56bLo",
        "colab_type": "text"
      },
      "source": [
        "Now, we define the model architecture:"
      ]
    },
    {
      "cell_type": "code",
      "metadata": {
        "id": "QQJt3i0DTRpk",
        "colab_type": "code",
        "colab": {}
      },
      "source": [
        "class TwitterSentimentPredictor(nn.Module):\n",
        "    def __init__(self, vocab_size, embedding_dim, pretrained_embeddings, hidden_dim, output_dim, n_layers, pad_idx, bidirectional):\n",
        "        super(TwitterSentimentPredictor, self).__init__()\n",
        "\n",
        "        self.embedding = nn.Embedding(vocab_size, embedding_dim, padding_idx=pad_idx)\n",
        "        self.embedding.weight.data.copy_(pretrained_embeddings)  # Initialize embeddings\n",
        "        # We don't freeze the embedding layer because I've found that to give better training accuracy\n",
        "\n",
        "        # Define LSTM Layers\n",
        "        self.lstm = nn.LSTM(input_size=embedding_dim, hidden_size=hidden_dim, num_layers=n_layers, dropout=0.8, bidirectional=bidirectional)\n",
        "\n",
        "        # Final dense\n",
        "        self.dropout = nn.Dropout(0.8)\n",
        "        self.dense1 = nn.Linear(hidden_dim * 2, output_dim)\n",
        "    \n",
        "\n",
        "    def forward(self, input, lengths):\n",
        "\n",
        "        embed = self.embedding(input)\n",
        "\n",
        "        # Pack sequence\n",
        "        packed_embed = nn.utils.rnn.pack_padded_sequence(embed, lengths)\n",
        "        packed_output, (hidden, cell) = self.lstm(packed_embed)\n",
        "\n",
        "        # Take the hidden state of the last layer for output\n",
        "        hidden = self.dropout(torch.cat((hidden[-2, :, :], hidden[-1, :, :]), dim=1))\n",
        "        out = self.dense1(hidden)\n",
        "\n",
        "        return out"
      ],
      "execution_count": 30,
      "outputs": []
    },
    {
      "cell_type": "code",
      "metadata": {
        "id": "3t_n1ivyU1IS",
        "colab_type": "code",
        "colab": {}
      },
      "source": [
        "INPUT_DIM = len(TEXT.vocab)\n",
        "EMBEDDING_DIM = len(TEXT.vocab.vectors[0])\n",
        "PRETRAINED_EMBEDDINGS = TEXT.vocab.vectors\n",
        "HIDDEN_DIM = 256\n",
        "OUTPUT_DIM = 1\n",
        "N_LAYERS = 2\n",
        "PAD_IDX = TEXT.vocab.stoi[TEXT.pad_token]\n",
        "BIDIRECTIONAL = True\n",
        "\n",
        "model = TwitterSentimentPredictor(INPUT_DIM, EMBEDDING_DIM, PRETRAINED_EMBEDDINGS, HIDDEN_DIM, OUTPUT_DIM, N_LAYERS, PAD_IDX, BIDIRECTIONAL).to(device)"
      ],
      "execution_count": 31,
      "outputs": []
    },
    {
      "cell_type": "code",
      "metadata": {
        "id": "9XkB2cTqVNME",
        "colab_type": "code",
        "colab": {}
      },
      "source": [
        "def calculate_accuracy(output, labels):\n",
        "    preds = torch.round(torch.sigmoid(output))\n",
        "    correct = (preds == labels).float()\n",
        "    acc = correct.sum() / len(correct)\n",
        "    return acc"
      ],
      "execution_count": 27,
      "outputs": []
    },
    {
      "cell_type": "code",
      "metadata": {
        "id": "AkgtZDdxVO16",
        "colab_type": "code",
        "colab": {}
      },
      "source": [
        "# Define loss criterion\n",
        "criterion = nn.BCEWithLogitsLoss()\n",
        "\n",
        "# Define optimizer\n",
        "opt = optim.Adam(model.parameters())\n",
        "opt = Lookahead(optimizer=opt, la_steps=10)"
      ],
      "execution_count": 32,
      "outputs": []
    },
    {
      "cell_type": "code",
      "metadata": {
        "id": "zrAk4yTQVifI",
        "colab_type": "code",
        "colab": {
          "base_uri": "https://localhost:8080/",
          "height": 314
        },
        "outputId": "bc8669b7-6280-4369-b351-2a1bafecc51a"
      },
      "source": [
        "history = hl.History()\n",
        "canvas = hl.Canvas()\n",
        "EPOCHS = 10\n",
        "iters = 0\n",
        "\n",
        "model.train()\n",
        "# Training loop\n",
        "for epoch in range(EPOCHS):\n",
        "    # Iterate over all the batches\n",
        "    for batch in train_iterator:\n",
        "        # Reset gradients\n",
        "        opt.zero_grad()\n",
        "\n",
        "        # Get the data and lengths from the batch\n",
        "        data, data_lengths = batch.text\n",
        "\n",
        "        # Calculate loss and accuracy\n",
        "        outputs = model(data, data_lengths).squeeze()\n",
        "\n",
        "        loss = criterion(outputs, batch.label)\n",
        "        accuracy = calculate_accuracy(outputs, batch.label)\n",
        "\n",
        "        # Backpropagate the loss\n",
        "        loss.backward()\n",
        "\n",
        "        # Update model parameters\n",
        "        opt.step()\n",
        "\n",
        "        # Update loss plot every 10th batch\n",
        "        if iters % 10 == 0:\n",
        "            history.log(iters, loss=loss, accuracy=accuracy)\n",
        "            canvas.draw_plot([history['loss'], history['accuracy']])\n",
        "        iters +=1\n",
        "\n",
        "print('RIP Computer lol')"
      ],
      "execution_count": 33,
      "outputs": [
        {
          "output_type": "display_data",
          "data": {
            "image/png": "[encoded data removed]",
            "text/plain": [
              "<Figure size 864x288 with 1 Axes>"
            ]
          },
          "metadata": {
            "tags": [],
            "needs_background": "light"
          }
        },
        {
          "output_type": "stream",
          "text": [
            "RIP Computer lol\n"
          ],
          "name": "stdout"
        }
      ]
    },
    {
      "cell_type": "code",
      "metadata": {
        "id": "siy6WBylb7cb",
        "colab_type": "code",
        "colab": {
          "base_uri": "https://localhost:8080/",
          "height": 314
        },
        "outputId": "92338517-dc80-4180-bb11-c4d1b597bbde"
      },
      "source": [
        "test_hist = hl.History()\n",
        "test_graph = hl.Canvas()\n",
        "test_iters = 0\n",
        "preds = np.array([])\n",
        "labels = np.array([])\n",
        "acc = []\n",
        "\n",
        "model.eval()\n",
        "with torch.no_grad():\n",
        "    for batch in test_iterator:\n",
        "        data, data_lengths = batch.text\n",
        "\n",
        "        opt._backup_and_load_cache()\n",
        "        outputs = model(data, data_lengths).squeeze()\n",
        "        preds = np.append(preds, torch.round(torch.sigmoid(outputs)).detach().cpu().numpy())\n",
        "        labels = np.append(labels, batch.label.detach().cpu().numpy())\n",
        "        loss = criterion(outputs, batch.label)\n",
        "        accuracy = calculate_accuracy(outputs, batch.label)\n",
        "        opt._clear_and_load_backup()\n",
        "        acc.append(accuracy)\n",
        "\n",
        "        if test_iters % 10 == 0:\n",
        "            test_hist.log(test_iters, loss=loss, accuracy=accuracy)\n",
        "            test_graph.draw_plot([test_hist['loss'], test_hist['accuracy']])\n",
        "        test_iters += 1\n",
        "print(f'Average accuracy: {sum(acc) / len(acc)}')"
      ],
      "execution_count": 34,
      "outputs": [
        {
          "output_type": "display_data",
          "data": {
            "image/png": "[encoded data removed]",
            "text/plain": [
              "<Figure size 864x288 with 1 Axes>"
            ]
          },
          "metadata": {
            "tags": [],
            "needs_background": "light"
          }
        },
        {
          "output_type": "stream",
          "text": [
            "Average accuracy: 0.8081352710723877\n"
          ],
          "name": "stdout"
        }
      ]
    },
    {
      "cell_type": "code",
      "metadata": {
        "id": "PXAMLWLhNFcT",
        "colab_type": "code",
        "colab": {
          "base_uri": "https://localhost:8080/",
          "height": 279
        },
        "outputId": "cf48de96-91d8-42db-822e-3214652ebb69"
      },
      "source": [
        "cm_data = {'preds': preds, 'true': labels}\n",
        "cm_df = pd.DataFrame.from_dict(cm_data)\n",
        "cm = pd.crosstab(cm_df['true'], cm_df['preds'], rownames=['Actual'], colnames=['Predicted'])\n",
        "\n",
        "sn.heatmap(cm, annot=True)\n",
        "plt.show()"
      ],
      "execution_count": 35,
      "outputs": [
        {
          "output_type": "display_data",
          "data": {
            "image/png": "[encoded data removed]",
            "text/plain": [
              "<Figure size 432x288 with 2 Axes>"
            ]
          },
          "metadata": {
            "tags": [],
            "needs_background": "light"
          }
        }
      ]
    },
    {
      "cell_type": "code",
      "metadata": {
        "id": "pjH0di1woTN8",
        "colab_type": "code",
        "colab": {}
      },
      "source": [
        "def predict(text):\n",
        "    clean_text = clean(text)\n",
        "    tokenized = [word for word in clean_text.split(' ') if word != '']\n",
        "    indexed = [TEXT.vocab.stoi[w] for w in tokenized]\n",
        "    length = [len(indexed)]\n",
        "    tensor = torch.LongTensor(indexed).to(device)\n",
        "    tensor = tensor.unsqueeze(1)\n",
        "    length_tensor = torch.LongTensor(length)\n",
        "    prediction = torch.sigmoid(model(tensor, length_tensor))\n",
        "    return prediction.item()"
      ],
      "execution_count": 57,
      "outputs": []
    },
    {
      "cell_type": "code",
      "metadata": {
        "id": "9M-9Wl4fpSJd",
        "colab_type": "code",
        "colab": {
          "base_uri": "https://localhost:8080/",
          "height": 34
        },
        "outputId": "2a53c9e2-8d15-483a-e2f1-66a4c57e6924"
      },
      "source": [
        "predict(\"i hate you\")"
      ],
      "execution_count": 58,
      "outputs": [
        {
          "output_type": "execute_result",
          "data": {
            "text/plain": [
              "0.05238809064030647"
            ]
          },
          "metadata": {
            "tags": []
          },
          "execution_count": 58
        }
      ]
    },
    {
      "cell_type": "code",
      "metadata": {
        "id": "OicO6TN2qMMi",
        "colab_type": "code",
        "colab": {
          "base_uri": "https://localhost:8080/",
          "height": 34
        },
        "outputId": "960cc7a8-fd23-4867-ed40-3bb2fb72d112"
      },
      "source": [
        "predict(\"took my dog out for a walk, the weather was pretty good\")"
      ],
      "execution_count": 59,
      "outputs": [
        {
          "output_type": "execute_result",
          "data": {
            "text/plain": [
              "0.905511200428009"
            ]
          },
          "metadata": {
            "tags": []
          },
          "execution_count": 59
        }
      ]
    },
    {
      "cell_type": "code",
      "metadata": {
        "id": "PcHc5irEm2CA",
        "colab_type": "code",
        "colab": {}
      },
      "source": [
        "import pickle\n",
        "\n",
        "torch.save(model.state_dict(), './twitter_sentiment_state_dict.pt')\n",
        "\n",
        "model_config = {'stoi' : TEXT.vocab.stoi,\n",
        "        'input_dim': INPUT_DIM,\n",
        "        'hidden_dim': HIDDEN_DIM,\n",
        "        'embedding_dim': EMBEDDING_DIM,\n",
        "        'output_dim': OUTPUT_DIM,\n",
        "        'n_layers': N_LAYERS,\n",
        "        'pad_idx': PAD_IDX}\n",
        "\n",
        "with open('config.pickle', 'wb') as handle:\n",
        "    pickle.dump(model_config, handle, protocol=pickle.HIGHEST_PROTOCOL)"
      ],
      "execution_count": 36,
      "outputs": []
    },
    {
      "cell_type": "code",
      "metadata": {
        "id": "xeme2msGKDUG",
        "colab_type": "code",
        "colab": {}
      },
      "source": [
        ""
      ],
      "execution_count": null,
      "outputs": []
    }
  ]
}